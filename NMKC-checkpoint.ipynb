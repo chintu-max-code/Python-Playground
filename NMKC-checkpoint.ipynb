{
 "cells": [
  {
   "cell_type": "code",
   "execution_count": 1,
   "id": "ccbd320a-e32a-478d-9384-5a3a1d9ef8d6",
   "metadata": {},
   "outputs": [
    {
     "name": "stdin",
     "output_type": "stream",
     "text": [
      "Enter the quantity of the item sold: 250\n",
      "Enter the value of item: 50\n",
      "Enter the discountpercentage: 5\n",
      "Enter the tax: 12\n"
     ]
    },
    {
     "name": "stdout",
     "output_type": "stream",
     "text": [
      "**********BILL**********\n",
      "quality sold;\t 250.0\n",
      "price per item;\t 50.0\n",
      "\n",
      "\t\t\t--------\n",
      "gross amount:\t\t 12500.0\n",
      "dicount:\t\t- 625.0\n",
      "\t\t\t-------\n",
      "Discounted sub total:\t 11875.0\n",
      "Tax:\t\t\t+ 1425.0\n",
      "\t\t\t-------\n",
      "Total net amount to be paid 13300.0\n"
     ]
    }
   ],
   "source": [
    " qty=float(input('Enter the quantity of the item sold:'))\n",
    "val=float(input('Enter the value of item:'))\n",
    "discountpercentage=float(input('Enter the discountpercentage:'))\n",
    "taxpercentage=float(input('Enter the tax:'))\n",
    "grossamt=qty*val\n",
    "discountamt=(discountpercentage/100*grossamt)\n",
    "subtotal=grossamt-discountamt\n",
    "taxamt=(taxpercentage/100)*subtotal\n",
    "netamt=subtotal+taxamt\n",
    "print('**********BILL**********')\n",
    "print('quality sold;\\t',qty)\n",
    "print('price per item;\\t',val)\n",
    "print('\\n\\t\\t\\t--------')\n",
    "print('gross amount:\\t\\t',grossamt)\n",
    "print('dicount:\\t\\t-',discountamt)\n",
    "print('\\t\\t\\t-------')\n",
    "print('Discounted sub total:\\t',subtotal)\n",
    "print('Tax:\\t\\t\\t+',taxamt)\n",
    "print('\\t\\t\\t-------')\n",
    "print('Total net amount to be paid',netamt)\n"
   ]
  },
  {
   "cell_type": "code",
   "execution_count": 1,
   "id": "076297bc-dc58-4b0c-80da-4d2dd1888e97",
   "metadata": {},
   "outputs": [
    {
     "name": "stdin",
     "output_type": "stream",
     "text": [
      "Enter the value of num : 8\n",
      "Enter the value of pi : 3.14\n",
      " Enter your name : NMK Chiranth\n",
      "Enter the complex value : 7+3j\n",
      "Enter the boolean value : True\n"
     ]
    },
    {
     "name": "stdout",
     "output_type": "stream",
     "text": [
      "\n",
      " Entered integer value is= 8\n",
      "\n",
      " Entered pi value is= 3.14\n",
      "\n",
      " Entered name is= NMK Chiranth\n",
      "\n",
      " Entered complex value is = (7+3j)\n",
      "\n",
      " Entered boolean value is = True\n",
      "\n",
      " None Type value is= None\n"
     ]
    }
   ],
   "source": [
    "num=int(input(\"Enter the value of num :\"))\n",
    "pi=float(input(\"Enter the value of pi :\"))\n",
    "name=str(input(\" Enter your name :\"))\n",
    "compvalue=complex(input(\"Enter the complex value :\"))\n",
    "boolean=bool(input(\"Enter the boolean value :\"))\n",
    "nonetype=None\n",
    "print('\\n Entered integer value is=',num)   #Print the values of variables\n",
    "print('\\n Entered pi value is=',pi)\n",
    "print('\\n Entered name is=',name)\n",
    "print('\\n Entered complex value is =',compvalue)\n",
    "print('\\n Entered boolean value is =',boolean)\n",
    "print('\\n None Type value is=',nonetype)\n",
    "\n",
    "\n"
   ]
  },
  {
   "cell_type": "code",
   "execution_count": null,
   "id": "32973355-7476-4e87-bc08-70c9218d5c87",
   "metadata": {},
   "outputs": [],
   "source": []
  }
 ],
 "metadata": {
  "kernelspec": {
   "display_name": "Python 3 (ipykernel)",
   "language": "python",
   "name": "python3"
  },
  "language_info": {
   "codemirror_mode": {
    "name": "ipython",
    "version": 3
   },
   "file_extension": ".py",
   "mimetype": "text/x-python",
   "name": "python",
   "nbconvert_exporter": "python",
   "pygments_lexer": "ipython3",
   "version": "3.12.7"
  }
 },
 "nbformat": 4,
 "nbformat_minor": 5
}
